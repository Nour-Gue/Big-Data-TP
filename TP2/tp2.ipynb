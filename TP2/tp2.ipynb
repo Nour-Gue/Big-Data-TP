{
 "cells": [
  {
   "cell_type": "markdown",
   "id": "693997c5",
   "metadata": {},
   "source": [
    "1. pandas.read_csv(chunk size)"
   ]
  },
  {
   "cell_type": "code",
   "execution_count": null,
   "id": "26dbe41b",
   "metadata": {},
   "outputs": [
    {
     "name": "stdout",
     "output_type": "stream",
     "text": [
      "Rows processed: 500\n",
      "Rows processed: 1000\n",
      "Rows processed: 1500\n",
      "Rows processed: 2000\n",
      "Rows processed: 2500\n",
      "Rows processed: 3000\n",
      "Rows processed: 3500\n",
      "Rows processed: 4000\n",
      "Rows processed: 4500\n",
      "Rows processed: 5000\n",
      "Rows processed: 5500\n",
      "Rows processed: 6000\n",
      "Rows processed: 6500\n",
      "Rows processed: 7000\n",
      "Rows processed: 7500\n",
      "Rows processed: 8000\n",
      "Rows processed: 8500\n",
      "Rows processed: 8807\n",
      " Time: 0.42 seconds\n"
     ]
    }
   ],
   "source": [
    "import pandas as pd\n",
    "import time\n",
    "\n",
    "start = time.time()\n",
    "chunksize = 500  \n",
    "chunks = pd.read_csv(r\"C:\\Users\\LAPTA\\Big-Data-TP\\TP2\\netflix_titles.csv\", chunksize=chunksize)\n",
    "\n",
    "count = 0\n",
    "for chunk in chunks:\n",
    "    count += len(chunk)\n",
    "    print(\"Rows processed:\", count)\n",
    "\n",
    "print(\" Time:\", round(time.time() - start, 2), \"seconds\")"
   ]
  },
  {
   "cell_type": "markdown",
   "id": "44d21ef8",
   "metadata": {},
   "source": [
    "2. Dask DataFrame"
   ]
  },
  {
   "cell_type": "code",
   "execution_count": 11,
   "id": "1359fc5f",
   "metadata": {},
   "outputs": [
    {
     "name": "stdout",
     "output_type": "stream",
     "text": [
      "  show_id     type                  title         director  \\\n",
      "0      s1    Movie   Dick Johnson Is Dead  Kirsten Johnson   \n",
      "1      s2  TV Show          Blood & Water              NaN   \n",
      "2      s3  TV Show              Ganglands  Julien Leclercq   \n",
      "3      s4  TV Show  Jailbirds New Orleans              NaN   \n",
      "4      s5  TV Show           Kota Factory              NaN   \n",
      "\n",
      "                                                cast        country  \\\n",
      "0                                                NaN  United States   \n",
      "1  Ama Qamata, Khosi Ngema, Gail Mabalane, Thaban...   South Africa   \n",
      "2  Sami Bouajila, Tracy Gotoas, Samuel Jouy, Nabi...            NaN   \n",
      "3                                                NaN            NaN   \n",
      "4  Mayur More, Jitendra Kumar, Ranjan Raj, Alam K...          India   \n",
      "\n",
      "           date_added  release_year rating   duration  \\\n",
      "0  September 25, 2021          2020  PG-13     90 min   \n",
      "1  September 24, 2021          2021  TV-MA  2 Seasons   \n",
      "2  September 24, 2021          2021  TV-MA   1 Season   \n",
      "3  September 24, 2021          2021  TV-MA   1 Season   \n",
      "4  September 24, 2021          2021  TV-MA  2 Seasons   \n",
      "\n",
      "                                           listed_in  \\\n",
      "0                                      Documentaries   \n",
      "1    International TV Shows, TV Dramas, TV Mysteries   \n",
      "2  Crime TV Shows, International TV Shows, TV Act...   \n",
      "3                             Docuseries, Reality TV   \n",
      "4  International TV Shows, Romantic TV Shows, TV ...   \n",
      "\n",
      "                                         description  \n",
      "0  As her father nears the end of his life, filmm...  \n",
      "1  After crossing paths at a party, a Cape Town t...  \n",
      "2  To protect his family from a powerful drug lor...  \n",
      "3  Feuds, flirtations and toilet talk go down amo...  \n",
      "4  In a city of coaching centers known to train I...  \n",
      " Time: 0.25 seconds\n"
     ]
    }
   ],
   "source": [
    "import dask.dataframe as dd\n",
    "import time\n",
    "\n",
    "start = time.time()\n",
    "df = dd.read_csv(r\"C:\\Users\\LAPTA\\Big-Data-TP\\TP2\\netflix_titles.csv\")\n",
    "print(df.head())\n",
    "print(\" Time:\", round(time.time() - start, 2), \"seconds\")"
   ]
  },
  {
   "cell_type": "markdown",
   "id": "95d30549",
   "metadata": {},
   "source": [
    "3.Compression"
   ]
  },
  {
   "cell_type": "code",
   "execution_count": 12,
   "id": "4315bf8f",
   "metadata": {},
   "outputs": [
    {
     "name": "stdout",
     "output_type": "stream",
     "text": [
      "<class 'pandas.core.frame.DataFrame'>\n",
      "RangeIndex: 8807 entries, 0 to 8806\n",
      "Data columns (total 12 columns):\n",
      " #   Column        Non-Null Count  Dtype \n",
      "---  ------        --------------  ----- \n",
      " 0   show_id       8807 non-null   object\n",
      " 1   type          8807 non-null   object\n",
      " 2   title         8807 non-null   object\n",
      " 3   director      6173 non-null   object\n",
      " 4   cast          7982 non-null   object\n",
      " 5   country       7976 non-null   object\n",
      " 6   date_added    8797 non-null   object\n",
      " 7   release_year  8807 non-null   int64 \n",
      " 8   rating        8803 non-null   object\n",
      " 9   duration      8804 non-null   object\n",
      " 10  listed_in     8807 non-null   object\n",
      " 11  description   8807 non-null   object\n",
      "dtypes: int64(1), object(11)\n",
      "memory usage: 825.8+ KB\n",
      "None\n",
      "Time: 1.1 seconds\n"
     ]
    }
   ],
   "source": [
    "import pandas as pd\n",
    "import time\n",
    "\n",
    "start = time.time()\n",
    "df = pd.read_csv(r\"C:\\Users\\LAPTA\\Big-Data-TP\\TP2\\netflix_titles.csv\", compression='infer')\n",
    "print(df.info())\n",
    "df.to_csv(r\"C:\\Users\\LAPTA\\Big-Data-TP\\TP2\\netflix_titles_compressed.csv.gz\", index=False, compression='gzip')\n",
    "print(\"Time:\", round(time.time() - start, 2), \"seconds\")"
   ]
  }
 ],
 "metadata": {
  "kernelspec": {
   "display_name": "conda",
   "language": "python",
   "name": "python3"
  },
  "language_info": {
   "codemirror_mode": {
    "name": "ipython",
    "version": 3
   },
   "file_extension": ".py",
   "mimetype": "text/x-python",
   "name": "python",
   "nbconvert_exporter": "python",
   "pygments_lexer": "ipython3",
   "version": "3.8.20"
  }
 },
 "nbformat": 4,
 "nbformat_minor": 5
}
